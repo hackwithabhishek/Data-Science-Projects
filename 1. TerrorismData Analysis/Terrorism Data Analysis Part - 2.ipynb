{
 "cells": [
  {
   "cell_type": "markdown",
   "metadata": {},
   "source": [
    "## Terrorism Data Analysis Part - 2\n",
    "\n",
    "File Name \"terrorismData.csv\"\n",
    "\n",
    "It is an open-source database including information on terrorist attacks around the world from 1970 \n",
    "through 2017. This dataset includes systematic data on domestic as well as international terrorist incidents that have occurred during this time period"
   ]
  },
  {
   "cell_type": "markdown",
   "metadata": {},
   "source": [
    "## Terror Attack City\n",
    "#### Problem Statement :\n",
    "The Most Dangerous city in Jammu and Kashmir and the terrorist group which is most active in that city?\n",
    "\n",
    "Print count of number of attacks in that city as integer value.\n",
    "\n",
    "Note:Ignoring the Unknown Terrorist Group.Here Dangerous related with the number of terrorist attacks."
   ]
  },
  {
   "cell_type": "code",
   "execution_count": 3,
   "metadata": {},
   "outputs": [
    {
     "name": "stdout",
     "output_type": "stream",
     "text": [
      "Srinagar 657 Muslim Separatists\n"
     ]
    }
   ],
   "source": [
    "import numpy as np\n",
    "import pandas as pd\n",
    "\n",
    "data=pd.read_csv('C:\\\\Users/Abhishek Mishra/Desktop/Dataset/terrorismData.csv')\n",
    "df=data.copy()\n",
    "a1=df['City']\n",
    "a=np.array(a1)\n",
    "b1=df['State']\n",
    "b=np.array(b1)\n",
    "dict={}\n",
    "for i in range(len(a)):\n",
    "    if(a[i]!='Unknown' and b[i]=='Jammu and Kashmir'):\n",
    "        dict[a[i]]=dict.get(a[i],0)+1\n",
    "max=0\n",
    "anskey=0\n",
    "ansg=0\n",
    "for key in dict:\n",
    "    if max<dict[key]:\n",
    "        max=dict[key]\n",
    "        anskey=key\n",
    "\n",
    "dict2={}\n",
    "c1=df['Group']\n",
    "c=np.array(c1)\n",
    "for i in range(len(a)):\n",
    "    if a[i]==anskey and c[i]!= 'Unknown':\n",
    "        dict2[c[i]]=dict2.get(c[i],0)+1\n",
    "max1=0\n",
    "for key in dict2:\n",
    "    if max1<dict2[key]:\n",
    "        max1=dict2[key]\n",
    "        ansg=key   \n",
    "    \n",
    "print(anskey ,max ,ansg)\n"
   ]
  },
  {
   "cell_type": "markdown",
   "metadata": {},
   "source": [
    "## Terror Attack\n",
    "#### Problem Statement :\n",
    "Find out the Country with Highest Number of Terror Attack and in which year the most number of terrorist attack happened in that country ?\n",
    "\n",
    "Print count of terror attacks as integer value."
   ]
  },
  {
   "cell_type": "code",
   "execution_count": 4,
   "metadata": {},
   "outputs": [
    {
     "name": "stdout",
     "output_type": "stream",
     "text": [
      "Iraq 24636 2014\n"
     ]
    }
   ],
   "source": [
    "import numpy as np\n",
    "import pandas as pd\n",
    "import operator\n",
    "\n",
    "data=pd.read_csv('C:\\\\Users/Abhishek Mishra/Desktop/Dataset/terrorismData.csv')\n",
    "df=data.copy()\n",
    "a=np.array(df['Country'])\n",
    "b=np.array(df['Year'])\n",
    "\n",
    "dict={}\n",
    "for i in range(len(a)):\n",
    "    dict[a[i]]=dict.get(a[i],0)+1\n",
    "    \n",
    "max=0\n",
    "acon=0\n",
    "for key in dict:\n",
    "    if max<dict[key]:\n",
    "        max=dict[key]\n",
    "        acon=key\n",
    "dict2={}\n",
    "ayer=0\n",
    "for i in range(len(b)):\n",
    "    if a[i]==acon:\n",
    "        dict2[b[i]]=dict2.get(b[i],0)+1\n",
    "max1=0\n",
    "for key in dict2:\n",
    "    if max1<dict2[key]:\n",
    "        max1=dict2[key]\n",
    "        ayer=key\n",
    "print(acon ,max ,ayer)\n",
    "    "
   ]
  },
  {
   "cell_type": "markdown",
   "metadata": {},
   "source": [
    "## Terror DeadliestAttack\n",
    "#### Problem Statement :\n",
    "Most Deadliest attack in a history of HumanKind?\n",
    "\n",
    "Print count of Killed people as integer value.\n",
    "\n",
    "Note: Here Deadliest attack means, in which the most number of people killed."
   ]
  },
  {
   "cell_type": "code",
   "execution_count": 5,
   "metadata": {},
   "outputs": [
    {
     "name": "stdout",
     "output_type": "stream",
     "text": [
      "1570 Iraq Islamic State of Iraq and the Levant (ISIL)\n"
     ]
    }
   ],
   "source": [
    "import pandas as pd\n",
    "df = pd.read_csv('C:\\\\Users/Abhishek Mishra/Desktop/Dataset/terrorismData.csv')\n",
    "\n",
    "df.Killed.fillna('0.0', inplace=True)\n",
    "\n",
    "# add new column kills with integer values bcz we want to sort values\n",
    "def convert(s):\n",
    "    return int(float(s))\n",
    "df['killed'] = df.Killed.apply(convert)\n",
    "\n",
    "# sort according to kills\n",
    "df.sort_values('killed', ascending=False, inplace=True)\n",
    "row1 = df.iloc[0] # 1st row\n",
    "print(row1['killed'], row1['Country'], row1['Group'])"
   ]
  },
  {
   "cell_type": "markdown",
   "metadata": {},
   "source": [
    "## Terror Government\n",
    "#### Problem Statement :\n",
    "There was formation of new government in India on 26 May 2014. So current government's span is from 26th May 2014 to current. Find out two things from this period-\n",
    "\n",
    "1. Total number of attacks done in this period in India. Find this count as integer.\n",
    "\n",
    "2. Which Terrorist group was most active in this period in India. Most active means, group which has done maximum number of attacks.  \n",
    "\n",
    "3.Ignore the Unknown group. \n"
   ]
  },
  {
   "cell_type": "code",
   "execution_count": 6,
   "metadata": {},
   "outputs": [
    {
     "name": "stdout",
     "output_type": "stream",
     "text": [
      "3336 Maoists\n"
     ]
    }
   ],
   "source": [
    "import pandas as pd\n",
    "df=pd.read_csv('C:\\\\Users/Abhishek Mishra/Desktop/Dataset/terrorismData.csv')\n",
    "df=df[df['Country']=='India']\n",
    "bool_series = (df['Year']>2014) | ( (df['Year']==2014) & (df['Month']>5) ) | ( (df['Year']==2014) & (df['Month']==5) & (df['Day']>=26))\n",
    "df_req = df[(bool_series)]\n",
    "num_attacks = df_req.shape[0]\n",
    "\n",
    "\n",
    "grp = df_req['Group'].value_counts().index[1]\n",
    "print(num_attacks, grp)"
   ]
  },
  {
   "cell_type": "markdown",
   "metadata": {},
   "source": [
    "## Terror Frequency\n",
    "#### Problem Statement :\n",
    "Find the frequency of the Casualty in Red Corridor states and in Jammu and Kashmir ?Here Frequency is (Total Casualty/Total Number of a year)\n",
    "\n",
    "Print frequency as integer value.\n",
    "\n",
    "Note:Red Corridor state includes Jharkhand, Odisha, Andhra Pradesh, and Chhattisgarh. Here Casualty=Killed +Wounded.Don't fill the nan value present in Killed and Wounded feature."
   ]
  },
  {
   "cell_type": "code",
   "execution_count": 9,
   "metadata": {},
   "outputs": [
    {
     "name": "stdout",
     "output_type": "stream",
     "text": [
      "115 261\n"
     ]
    },
    {
     "name": "stderr",
     "output_type": "stream",
     "text": [
      "C:\\Users\\Abhishek Mishra\\Anaconda3\\lib\\site-packages\\ipykernel_launcher.py:14: SettingWithCopyWarning: \n",
      "A value is trying to be set on a copy of a slice from a DataFrame.\n",
      "Try using .loc[row_indexer,col_indexer] = value instead\n",
      "\n",
      "See the caveats in the documentation: http://pandas.pydata.org/pandas-docs/stable/indexing.html#indexing-view-versus-copy\n",
      "  \n",
      "C:\\Users\\Abhishek Mishra\\Anaconda3\\lib\\site-packages\\ipykernel_launcher.py:15: SettingWithCopyWarning: \n",
      "A value is trying to be set on a copy of a slice from a DataFrame.\n",
      "Try using .loc[row_indexer,col_indexer] = value instead\n",
      "\n",
      "See the caveats in the documentation: http://pandas.pydata.org/pandas-docs/stable/indexing.html#indexing-view-versus-copy\n",
      "  from ipykernel import kernelapp as app\n"
     ]
    }
   ],
   "source": [
    "\n",
    "import numpy as np\n",
    "import pandas as pd\n",
    "\n",
    "df=pd.read_csv('C:\\\\Users/Abhishek Mishra/Desktop/Dataset/terrorismData.csv')\n",
    "year1= len(set(df['Year']))\n",
    "\n",
    "df=df[df['Country']=='India']\n",
    "\n",
    "\n",
    "df1=df[df['State']=='Jammu and Kashmir']\n",
    "df2=df[(df['State']=='Jharkhand') | (df['State']=='Odisha') | (df['State']=='Andhra Pradesh') | (df['State']=='Chhattisgarh')]\n",
    "\n",
    "df1['Casualty']=df1.Killed+df1.Wounded\n",
    "df2['Casualty']=df2.Killed+df2.Wounded\n",
    "\n",
    "print(int(df2.Casualty.sum(axis=0,skipna=True)//year1) ,int(df1.Casualty.sum(axis=0,skipna=True)//year1))"
   ]
  },
  {
   "cell_type": "code",
   "execution_count": null,
   "metadata": {},
   "outputs": [],
   "source": []
  }
 ],
 "metadata": {
  "kernelspec": {
   "display_name": "Python 3",
   "language": "python",
   "name": "python3"
  },
  "language_info": {
   "codemirror_mode": {
    "name": "ipython",
    "version": 3
   },
   "file_extension": ".py",
   "mimetype": "text/x-python",
   "name": "python",
   "nbconvert_exporter": "python",
   "pygments_lexer": "ipython3",
   "version": "3.7.3"
  }
 },
 "nbformat": 4,
 "nbformat_minor": 2
}
