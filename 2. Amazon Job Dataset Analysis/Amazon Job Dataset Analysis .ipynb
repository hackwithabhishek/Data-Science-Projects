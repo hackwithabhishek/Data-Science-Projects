{
 "cells": [
  {
   "cell_type": "markdown",
   "metadata": {},
   "source": [
    "# Amazon Job Dataset\n"
   ]
  },
  {
   "cell_type": "markdown",
   "metadata": {},
   "source": [
    "For this assignment, I'll be using \"Amazon Job Dataset\" which is collected by scraping https://amazon.jobs."
   ]
  },
  {
   "cell_type": "markdown",
   "metadata": {},
   "source": [
    "### Different fields of dataset and what they represent"
   ]
  },
  {
   "cell_type": "raw",
   "metadata": {},
   "source": [
    "Title : The title of the job\n",
    "Location : Location of the job\n",
    "Posting_date : Posting date of the job\n",
    "Description: Overall description for the job\n",
    "Basic Qualifications: Minimum Qualifications for the job\n",
    "Preferred Qualifications: Preferred Qualifications for the job"
   ]
  },
  {
   "cell_type": "markdown",
   "metadata": {},
   "source": [
    "### By analysing this dataset, we can find out many interesting insights such as -"
   ]
  },
  {
   "cell_type": "raw",
   "metadata": {},
   "source": [
    "- number of job openings in a specific location\n",
    "- jobs available for a specific qualification\n",
    "- Most popular skillset \n",
    "- and many other things"
   ]
  },
  {
   "cell_type": "markdown",
   "metadata": {},
   "source": [
    "# Job Location"
   ]
  },
  {
   "cell_type": "markdown",
   "metadata": {},
   "source": [
    "#### Problem Statement :\n",
    "Find number of job openings in Bangalore,IN and in Seattle,US?\n",
    "Print the Number of Job opening in Bangalore and Seattle as Integer value."
   ]
  },
  {
   "cell_type": "code",
   "execution_count": 3,
   "metadata": {},
   "outputs": [
    {
     "name": "stdout",
     "output_type": "stream",
     "text": [
      "66   1856\n"
     ]
    }
   ],
   "source": [
    "import csv\n",
    "with open('C:/Users/Abhishek Mishra/Desktop/Dataset/amazon_jobs_dataset.csv','r',encoding='utf-8') as file_obj:\n",
    "    file_data=csv.DictReader(file_obj,skipinitialspace=True)\n",
    "    countB=0\n",
    "    countS=0\n",
    "    # for row in file_data:\n",
    "    #     pass\n",
    "        #print(row['location'])\n",
    "    for row in file_data:\n",
    "        if(row['location']==\"US, WA, Seattle \"):\n",
    "            countS=countS+1\n",
    "        elif(row['location']==\"IN, KA, Bangalore \"):\n",
    "            countB=countB+1\n",
    "print(countB,' ',countS)"
   ]
  },
  {
   "cell_type": "markdown",
   "metadata": {},
   "source": [
    "# Job Computer Vision"
   ]
  },
  {
   "cell_type": "markdown",
   "metadata": {},
   "source": [
    "#### Problem Statement :\n",
    "What are the total number of job openings related to Computer Vision ?\n",
    "Note:For finding the job related to computer vision check the Job Title column.\n",
    "Print the count as the Integer Value"
   ]
  },
  {
   "cell_type": "code",
   "execution_count": 4,
   "metadata": {},
   "outputs": [
    {
     "name": "stdout",
     "output_type": "stream",
     "text": [
      "14\n"
     ]
    }
   ],
   "source": [
    "import csv\n",
    "\n",
    "with open('C:/Users/Abhishek Mishra/Desktop/Dataset/amazon_jobs_dataset.csv','r',encoding='utf-8') as file:\n",
    "    file_list=list(csv.DictReader(file,skipinitialspace=True))\n",
    "    \n",
    "\n",
    "count=0\n",
    "for row in file_list:\n",
    "    if 'Computer Vision' in row['Title']:\n",
    "        count+=1\n",
    "        \n",
    "print(count)"
   ]
  },
  {
   "cell_type": "markdown",
   "metadata": {},
   "source": [
    "# Job Canada"
   ]
  },
  {
   "cell_type": "markdown",
   "metadata": {},
   "source": [
    "#### Problem Statement :\n",
    "Find the number of job openings in Canada?\n",
    "Print the count as the Integer Value\n",
    "Note: Here you should analyse the country code in location feature.( you can use dictionary for analyse part )."
   ]
  },
  {
   "cell_type": "code",
   "execution_count": 7,
   "metadata": {},
   "outputs": [
    {
     "name": "stdout",
     "output_type": "stream",
     "text": [
      "156\n"
     ]
    }
   ],
   "source": [
    "import csv\n",
    "with open('C:/Users/Abhishek Mishra/Desktop/Dataset/amazon_jobs_dataset.csv','r',encoding='utf-8') as file_obj:\n",
    "    file_data=csv.DictReader(file_obj,skipinitialspace=True)\n",
    "    count=0\n",
    "    for row in file_data:\n",
    "        #print(row['location'])\n",
    "        a=row['location'].split()\n",
    "        if not('US,' in a and 'CA,' in a) and 'CA,' in  a:\n",
    "            count+=1\n",
    "print(count)"
   ]
  },
  {
   "cell_type": "markdown",
   "metadata": {},
   "source": [
    "# Job Month 2018"
   ]
  },
  {
   "cell_type": "markdown",
   "metadata": {},
   "source": [
    "#### Problem Statement :\n",
    "Find the month having most job openings in Year 2018 ?\n",
    "Print the month (Month Name i.e January, February, March) and Number of job opening as Integer Value"
   ]
  },
  {
   "cell_type": "code",
   "execution_count": 8,
   "metadata": {},
   "outputs": [
    {
     "name": "stdout",
     "output_type": "stream",
     "text": [
      "January   907\n"
     ]
    }
   ],
   "source": [
    "import csv\n",
    "with open('C:/Users/Abhishek Mishra/Desktop/Dataset/amazon_jobs_dataset.csv','r',encoding='utf-8') as file_obj:\n",
    "    file_data=csv.DictReader(file_obj,skipinitialspace=True)\n",
    "    dict={}\n",
    "    for row in file_data:\n",
    "        if '2018' in row['Posting_date']:\n",
    "            l=[ i for i in row['Posting_date'].split(' ')]\n",
    "            key=l[0]\n",
    "            if key in dict:\n",
    "                dict[key]+=1\n",
    "            else:\n",
    "                dict[key]=1\n",
    "max=0\n",
    "for i in dict:\n",
    "    if(dict[i]>max):\n",
    "        max=dict[i]\n",
    "        value=i\n",
    "print(i,' ',dict[i])\n",
    "    \n",
    "        \n",
    "        "
   ]
  },
  {
   "cell_type": "markdown",
   "metadata": {},
   "source": [
    "# Job Degree"
   ]
  },
  {
   "cell_type": "markdown",
   "metadata": {},
   "source": [
    "#### Problem Statement :\n",
    "Find the number of job openings are present if applicant have Bachelor degree?\n",
    "Print the count as Integer value\n",
    "Note : Here we will use the BASIC QUALIFICATIONS feature to find out whether bachelor degree for Job is required or not. Keywords that can be used are 'Bachelor', 'BS' and 'BA'."
   ]
  },
  {
   "cell_type": "code",
   "execution_count": 9,
   "metadata": {},
   "outputs": [
    {
     "name": "stdout",
     "output_type": "stream",
     "text": [
      "2961\n"
     ]
    }
   ],
   "source": [
    "import csv\n",
    "with open('C:/Users/Abhishek Mishra/Desktop/Dataset/amazon_jobs_dataset.csv','r',encoding='utf-8') as file_obj:\n",
    "    count=0\n",
    "    file_data=csv.DictReader(file_obj,skipinitialspace=True)\n",
    "    for row in file_data:\n",
    "        if \"Bachelor\" in row['BASIC QUALIFICATIONS']:\n",
    "            count+=1\n",
    "        elif \"BS\" in row['BASIC QUALIFICATIONS']:\n",
    "            count+=1\n",
    "        elif \"BA\" in row['BASIC QUALIFICATIONS']:\n",
    "            count+=1\n",
    "                        \n",
    "print(count)"
   ]
  },
  {
   "cell_type": "markdown",
   "metadata": {},
   "source": [
    "# Job Language"
   ]
  },
  {
   "cell_type": "markdown",
   "metadata": {},
   "source": [
    "#### Problem Statement :\n",
    "Among Java, C++ and Python, which of the language has more job openings in India for Bachelor Degree Holder?\n",
    "Print the Language(i.e Java,C++,Python) and number of job opening as integer value.\n",
    "Note : Here we will use the BASIC QUALIFICATIONS feature to find out whether bachelor degree for Job is required or not. Keywords that can be used are 'Bachelor', 'BS' and 'BA' and we will use the BASIC QUALIFICATIONS feature to find out whether Language is required for the job or not.Keywords that is used for language searching are 'Java','C++' or 'Python'.(There case should not be changed)."
   ]
  },
  {
   "cell_type": "code",
   "execution_count": 10,
   "metadata": {},
   "outputs": [
    {
     "name": "stdout",
     "output_type": "stream",
     "text": [
      "Java   103\n"
     ]
    }
   ],
   "source": [
    "import csv\n",
    "with open('C:/Users/Abhishek Mishra/Desktop/Dataset/amazon_jobs_dataset.csv','r',encoding='utf-8') as file_obj:\n",
    "    file_data=csv.DictReader(file_obj,skipinitialspace=True)\n",
    "    dict = {'Java':0, 'C++':0, 'Python':0}\n",
    "    for row in file_data:\n",
    "        #print(row['location'])\n",
    "        loc=row['location'].split(',')\n",
    "        if ('Bachelor' in row['BASIC QUALIFICATIONS'] or 'BA' in row['BASIC QUALIFICATIONS'] or 'BS' in row['BASIC QUALIFICATIONS']) and ('IN' in loc):\n",
    "            if 'Java' in row['BASIC QUALIFICATIONS']:\n",
    "                dict['Java']+=1\n",
    "            if 'C++' in row['BASIC QUALIFICATIONS']:\n",
    "                dict['C++']+=1\n",
    "            if 'Python' in row['BASIC QUALIFICATIONS']:\n",
    "                dict['Python']+=1\n",
    "max=0\n",
    "for i in dict:\n",
    "    if(dict[i]>max):\n",
    "        max=dict[i]\n",
    "        val=i\n",
    "print(val,' ',max)"
   ]
  },
  {
   "cell_type": "markdown",
   "metadata": {},
   "source": [
    "# Job Java"
   ]
  },
  {
   "cell_type": "markdown",
   "metadata": {},
   "source": [
    "#### Problem Statement :\n",
    "Find the country does Amazon need the most number of Java Developer?\n",
    "Print the Country(Country Shortcut as given in Dataset) and number of job opening as integer value\n",
    "Note :Here we will use the BASIC QUALIFICATIONS feature to find out whether Java is required for the job or not.Keyword is used is 'Java'.(Here case should not be changed)."
   ]
  },
  {
   "cell_type": "code",
   "execution_count": 12,
   "metadata": {},
   "outputs": [
    {
     "name": "stdout",
     "output_type": "stream",
     "text": [
      "US   2009\n"
     ]
    }
   ],
   "source": [
    "import csv\n",
    "with open('C:/Users/Abhishek Mishra/Desktop/Dataset/amazon_jobs_dataset.csv','r',encoding='utf-8') as file_obj:\n",
    "    file_data=csv.DictReader(file_obj,skipinitialspace=True)\n",
    "    dict={}\n",
    "    for row in file_data:\n",
    "        a=row['PREFERRED QUALIFICATIONS'].split(' ')\n",
    "        if 'Java' in row['BASIC QUALIFICATIONS']:\n",
    "            a=row['location'].split(',')\n",
    "            if a[0] in dict:\n",
    "                dict[a[0]]+=1\n",
    "            else:\n",
    "                dict[a[0]]=1\n",
    "#print(dict)\n",
    "max=0\n",
    "for i in dict:\n",
    "    if(dict[i]>max):\n",
    "        max=dict[i]\n",
    "        val=i\n",
    "print(val,' ',max)"
   ]
  },
  {
   "cell_type": "code",
   "execution_count": null,
   "metadata": {},
   "outputs": [],
   "source": []
  }
 ],
 "metadata": {
  "kernelspec": {
   "display_name": "Python 3",
   "language": "python",
   "name": "python3"
  },
  "language_info": {
   "codemirror_mode": {
    "name": "ipython",
    "version": 3
   },
   "file_extension": ".py",
   "mimetype": "text/x-python",
   "name": "python",
   "nbconvert_exporter": "python",
   "pygments_lexer": "ipython3",
   "version": "3.7.3"
  }
 },
 "nbformat": 4,
 "nbformat_minor": 2
}
